{
 "cells": [
  {
   "cell_type": "markdown",
   "metadata": {},
   "source": [
    "# Classic Algorithms"
   ]
  },
  {
   "cell_type": "markdown",
   "metadata": {},
   "source": [
    "## Tasks Today:\n",
    " \n",
    "1) <b>In-Place Algorithms</b> <br>\n",
    " &nbsp;&nbsp;&nbsp;&nbsp; a) Syntax <br>\n",
    " &nbsp;&nbsp;&nbsp;&nbsp; a) Out of Place Algorithm <br>\n",
    " &nbsp;&nbsp;&nbsp;&nbsp; b) In-Class Exercise #1 <br>\n",
    "2) <b>Two Pointers</b> <br>\n",
    "3) <b>Sorting Algorithms</b> <br>\n",
    "4) <b>Merge Sort</b> <br>\n",
    " &nbsp;&nbsp;&nbsp;&nbsp; a) Video on Algorithms <br>\n",
    " &nbsp;&nbsp;&nbsp;&nbsp; b) How it Works <br>\n",
    "5) <b>Exercises</b> <br>\n",
    " &nbsp;&nbsp;&nbsp;&nbsp; a) Exercise #1 - Reverse a List in Place Using an In-Place Algorithm <br>\n",
    " &nbsp;&nbsp;&nbsp;&nbsp; b) Exercise #2 - Find Distinct Words <br>\n",
    " &nbsp;&nbsp;&nbsp;&nbsp; c) Exercise #3 - Write a program to implement a Linear Search Algorithm. <br>"
   ]
  },
  {
   "cell_type": "markdown",
   "metadata": {},
   "source": [
    "## In-Place Algorithms"
   ]
  },
  {
   "cell_type": "markdown",
   "metadata": {},
   "source": [
    "#### Syntax"
   ]
  },
  {
   "cell_type": "code",
   "execution_count": null,
   "metadata": {},
   "outputs": [],
   "source": []
  },
  {
   "cell_type": "code",
   "execution_count": 1,
   "metadata": {},
   "outputs": [
    {
     "data": {
      "text/plain": [
       "[6, 2, 3, 4, 5, 1]"
      ]
     },
     "execution_count": 1,
     "metadata": {},
     "output_type": "execute_result"
    }
   ],
   "source": [
    "my_list = [1, 2, 3, 4, 5, 6]\n",
    "def swap(a_list, index_a, index_b):\n",
    "#     print(a_list)\n",
    "    temp = a_list[index_a]\n",
    "    a_list[index_a] = a_list[index_b]\n",
    "#     print(a_list)\n",
    "    a_list[index_b] = temp\n",
    "    return a_list\n",
    "    \n",
    "swap(my_list, 0, 5)"
   ]
  },
  {
   "cell_type": "code",
   "execution_count": 2,
   "metadata": {},
   "outputs": [
    {
     "name": "stdout",
     "output_type": "stream",
     "text": [
      "Before: [10, 20, 30, 40, 50, 60]\n",
      "After: [10, 50, 30, 40, 20, 60]\n"
     ]
    }
   ],
   "source": [
    "# a_list[a], a_list[b] = a_list[b], a_list[a]\n",
    "\n",
    "def swap(a_list, index_a, index_b):\n",
    "    a_list[index_a], a_list[index_b] = a_list[index_b], a_list[index_a]\n",
    "#     return a_list\n",
    "\n",
    "my_list = [10, 20, 30, 40, 50, 60]\n",
    "print('Before:', my_list)\n",
    "swap(my_list, 1, 4)\n",
    "print('After:', my_list)"
   ]
  },
  {
   "cell_type": "code",
   "execution_count": 3,
   "metadata": {},
   "outputs": [
    {
     "name": "stdout",
     "output_type": "stream",
     "text": [
      "[10, 50, 30, 40, 20, 60]\n"
     ]
    }
   ],
   "source": [
    "print(my_list)"
   ]
  },
  {
   "cell_type": "markdown",
   "metadata": {},
   "source": [
    "#### Out of Place Algorithm"
   ]
  },
  {
   "cell_type": "code",
   "execution_count": 4,
   "metadata": {},
   "outputs": [
    {
     "name": "stdout",
     "output_type": "stream",
     "text": [
      "Before: ['Illinois', 'Kentucky', 'California', 'Wyoming', 'Massachusetts', 'New York']\n",
      "After: ['Illinois', 'Kentucky', 'California', 'Wyoming', 'Massachusetts', 'New York']\n",
      "My New List: ['Illinois', 'Massachusetts', 'California', 'Wyoming', 'Kentucky', 'New York']\n"
     ]
    }
   ],
   "source": [
    "def out_of_place_swap(original_list, index_a, index_b):\n",
    "    copy_of_original = original_list[:]\n",
    "    copy_of_original[index_a] = original_list[index_b]\n",
    "    copy_of_original[index_b] = original_list[index_a]\n",
    "    return copy_of_original\n",
    "\n",
    "my_list = ['Illinois', 'Kentucky', 'California', 'Wyoming', 'Massachusetts', 'New York']\n",
    "\n",
    "print('Before:', my_list)\n",
    "my_new_list = out_of_place_swap(my_list, 1, 4)\n",
    "print('After:', my_list)\n",
    "print('My New List:', my_new_list)"
   ]
  },
  {
   "cell_type": "code",
   "execution_count": 5,
   "metadata": {},
   "outputs": [
    {
     "name": "stdout",
     "output_type": "stream",
     "text": [
      "Before: [44, 3, 14, 56, 24, 234]\n",
      "After: [3, 14, 24, 44, 56, 234]\n"
     ]
    }
   ],
   "source": [
    "unsorted_list = [44, 3, 14, 56, 24, 234]\n",
    "\n",
    "print('Before:', unsorted_list)\n",
    "unsorted_list.sort() # In Place Algorithm\n",
    "print('After:', unsorted_list)"
   ]
  },
  {
   "cell_type": "code",
   "execution_count": 6,
   "metadata": {},
   "outputs": [
    {
     "name": "stdout",
     "output_type": "stream",
     "text": [
      "Before: [44, 3, 14, 56, 24, 234]\n",
      "After: [44, 3, 14, 56, 24, 234]\n",
      "[3, 14, 24, 44, 56, 234]\n"
     ]
    }
   ],
   "source": [
    "unsorted_list = [44, 3, 14, 56, 24, 234]\n",
    "\n",
    "print('Before:', unsorted_list)\n",
    "sorted_list = sorted(unsorted_list) # Out of Place Algorithm\n",
    "print('After:', unsorted_list)\n",
    "print(sorted_list)"
   ]
  },
  {
   "cell_type": "markdown",
   "metadata": {},
   "source": [
    "#### In-Class Exercise #1 <br>\n",
    "<p>Write a function that takes in four arguments (a_list, index1, index2, index3), and swaps those three positions in the list passed in.</p>"
   ]
  },
  {
   "cell_type": "code",
   "execution_count": null,
   "metadata": {},
   "outputs": [],
   "source": []
  },
  {
   "cell_type": "markdown",
   "metadata": {},
   "source": [
    "## Two Pointers"
   ]
  },
  {
   "cell_type": "markdown",
   "metadata": {},
   "source": [
    "#### Syntax"
   ]
  },
  {
   "cell_type": "code",
   "execution_count": 7,
   "metadata": {},
   "outputs": [
    {
     "name": "stdout",
     "output_type": "stream",
     "text": [
      "[5, 10, 15, 20, 25, 30]\n"
     ]
    },
    {
     "data": {
      "text/plain": [
       "[30, 25, 20, 15, 10, 5]"
      ]
     },
     "execution_count": 7,
     "metadata": {},
     "output_type": "execute_result"
    }
   ],
   "source": [
    "def reverse_swap(a_list):\n",
    "    # Create two pointers to point to the index we want to swap\n",
    "    left = 0 # first element in the list\n",
    "    right = len(a_list) - 1 # last element in the list\n",
    "    while left < right:\n",
    "        a_list[left], a_list[right] = a_list[right], a_list[left]\n",
    "        left += 1\n",
    "        right -= 1\n",
    "    return a_list\n",
    "\n",
    "example = [5, 10, 15, 20, 25, 30]\n",
    "print(example)\n",
    "reverse_swap(example)"
   ]
  },
  {
   "cell_type": "code",
   "execution_count": 8,
   "metadata": {},
   "outputs": [
    {
     "name": "stdout",
     "output_type": "stream",
     "text": [
      "[30, 25, 20, 15, 10, 5]\n"
     ]
    }
   ],
   "source": [
    "print(example)"
   ]
  },
  {
   "cell_type": "markdown",
   "metadata": {},
   "source": [
    "# Sorting Algorithms"
   ]
  },
  {
   "cell_type": "code",
   "execution_count": 14,
   "metadata": {},
   "outputs": [
    {
     "name": "stdout",
     "output_type": "stream",
     "text": [
      "1: i=0, j=0\n",
      "2: i=0, j=1\n",
      "3: i=0, j=2\n",
      "4: i=0, j=3\n",
      "5: i=1, j=0\n",
      "6: i=1, j=1\n",
      "7: i=1, j=2\n",
      "8: i=1, j=3\n",
      "9: i=2, j=0\n",
      "10: i=2, j=1\n",
      "11: i=2, j=2\n",
      "12: i=2, j=3\n",
      "13: i=3, j=0\n",
      "14: i=3, j=1\n",
      "15: i=3, j=2\n",
      "16: i=3, j=3\n"
     ]
    }
   ],
   "source": [
    "x = 4\n",
    "\n",
    "count = 0\n",
    "for i in range(x):\n",
    "    for j in range(x):\n",
    "        count += 1\n",
    "        print(f\"{count}: i={i}, j={j}\")"
   ]
  },
  {
   "cell_type": "code",
   "execution_count": 9,
   "metadata": {},
   "outputs": [
    {
     "name": "stdout",
     "output_type": "stream",
     "text": [
      "[63, 13, 57, 94, 36, 51, 79, 83, 27, 66]\n"
     ]
    }
   ],
   "source": [
    "import random \n",
    "\n",
    "list_to_sort = [random.randint(1,100) for _ in range(10)]\n",
    "print(list_to_sort)"
   ]
  },
  {
   "cell_type": "markdown",
   "metadata": {},
   "source": [
    "#### Bubble Sort\n",
    "\n",
    "Worst Case: O(n^2) Time - O(1) Space"
   ]
  },
  {
   "cell_type": "code",
   "execution_count": 10,
   "metadata": {},
   "outputs": [
    {
     "data": {
      "text/plain": [
       "[13, 27, 36, 51, 57, 63, 66, 79, 83, 94]"
      ]
     },
     "execution_count": 10,
     "metadata": {},
     "output_type": "execute_result"
    }
   ],
   "source": [
    "def bubble_sort(lst):\n",
    "    # When we first start, assume the list is unsorted\n",
    "    is_sorted = False\n",
    "    # while the list is unsorted, loop through and bubble largest to top\n",
    "    while not is_sorted:\n",
    "        # Begin the for bubbling with the assumption that the list is sorted\n",
    "        is_sorted = True\n",
    "        # Start the bubble loop\n",
    "        for idx in range(len(lst) - 1):\n",
    "            # if the list at index idx (left element) is greater than the value to its right (idx+1)\n",
    "             if lst[idx] > lst[idx+1]:\n",
    "                # swap those two values\n",
    "                lst[idx], lst[idx+1] = lst[idx+1], lst[idx]\n",
    "                # if we have to to any swaps, say that our list is actually not sorted and we must loop at least once more\n",
    "                is_sorted = False\n",
    "        \n",
    "    return lst\n",
    "        \n",
    "bubble_sort(list_to_sort)"
   ]
  },
  {
   "cell_type": "markdown",
   "metadata": {},
   "source": [
    "##### Insertion Sort\n",
    "\n",
    "Worst Case: O(n^2) time - O(1)space"
   ]
  },
  {
   "cell_type": "code",
   "execution_count": 25,
   "metadata": {},
   "outputs": [
    {
     "name": "stdout",
     "output_type": "stream",
     "text": [
      "[40, 7, 44, 77, 24, 69, 59, 4, 83, 63]\n"
     ]
    }
   ],
   "source": [
    "list_to_sort = [random.randint(1,100) for _ in range(10)]\n",
    "print(list_to_sort)"
   ]
  },
  {
   "cell_type": "code",
   "execution_count": 26,
   "metadata": {},
   "outputs": [
    {
     "data": {
      "text/plain": [
       "[4, 7, 24, 40, 44, 59, 63, 69, 77, 83]"
      ]
     },
     "execution_count": 26,
     "metadata": {},
     "output_type": "execute_result"
    }
   ],
   "source": [
    "def insertion_sort(lst):\n",
    "    # Loop over the unordered section (start at 1 because index-0 is \"sorted\")\n",
    "    for i in range(1, len(lst)):\n",
    "        # While we're not at the front of the list AND the element to the left is greater than our element\n",
    "        while i > 0 and lst[i-1] > lst[i]:\n",
    "            # swap our element with the element to its left\n",
    "            lst[i], lst[i-1] = lst[i-1], lst[i]\n",
    "            # move our pointer left one element (to match the new swap)\n",
    "            i -= 1\n",
    "    # When finished with for loop, return the list\n",
    "    return lst\n",
    "\n",
    "\n",
    "insertion_sort(list_to_sort)"
   ]
  },
  {
   "cell_type": "code",
   "execution_count": 27,
   "metadata": {},
   "outputs": [
    {
     "name": "stdout",
     "output_type": "stream",
     "text": [
      "[4, 7, 24, 40, 44, 59, 63, 69, 77, 83]\n"
     ]
    }
   ],
   "source": [
    "print(list_to_sort)"
   ]
  },
  {
   "cell_type": "markdown",
   "metadata": {},
   "source": [
    "## Merge Sort"
   ]
  },
  {
   "cell_type": "markdown",
   "metadata": {},
   "source": [
    "#### How it Works"
   ]
  },
  {
   "cell_type": "code",
   "execution_count": 44,
   "metadata": {},
   "outputs": [
    {
     "name": "stdout",
     "output_type": "stream",
     "text": [
      "[56, 26, 46, 19, 61, 54, 43, 98, 55, 28]\n"
     ]
    }
   ],
   "source": [
    "list_to_sort = [random.randint(1,100) for _ in range(10)]\n",
    "print(list_to_sort)"
   ]
  },
  {
   "cell_type": "code",
   "execution_count": 45,
   "metadata": {},
   "outputs": [
    {
     "name": "stdout",
     "output_type": "stream",
     "text": [
      "Splitting... [56, 26, 46, 19, 61, 54, 43, 98, 55, 28]\n",
      "Splitting... [56, 26, 46, 19, 61]\n",
      "Splitting... [56, 26]\n",
      "Merging... [56]\n",
      "Merging... [26]\n",
      "Merging... [26, 56]\n",
      "Splitting... [46, 19, 61]\n",
      "Merging... [46]\n",
      "Splitting... [19, 61]\n",
      "Merging... [19]\n",
      "Merging... [61]\n",
      "Merging... [19, 61]\n",
      "Merging... [19, 46, 61]\n",
      "Merging... [19, 26, 46, 56, 61]\n",
      "Splitting... [54, 43, 98, 55, 28]\n",
      "Splitting... [54, 43]\n",
      "Merging... [54]\n",
      "Merging... [43]\n",
      "Merging... [43, 54]\n",
      "Splitting... [98, 55, 28]\n",
      "Merging... [98]\n",
      "Splitting... [55, 28]\n",
      "Merging... [55]\n",
      "Merging... [28]\n",
      "Merging... [28, 55]\n",
      "Merging... [28, 55, 98]\n",
      "Merging... [28, 43, 54, 55, 98]\n",
      "Merging... [19, 26, 28, 43, 46, 54, 55, 56, 61, 98]\n"
     ]
    },
    {
     "data": {
      "text/plain": [
       "[19, 26, 28, 43, 46, 54, 55, 56, 61, 98]"
      ]
     },
     "execution_count": 45,
     "metadata": {},
     "output_type": "execute_result"
    }
   ],
   "source": [
    "def merge_sort(lst):\n",
    "    # If the list is larger than 1, split the list in half\n",
    "    if len(lst) > 1:\n",
    "        # Find the midway point of the list\n",
    "        midway = len(lst) // 2\n",
    "        print('Splitting...', lst)\n",
    "        # Slice the list from the beginning to the midway point for left half\n",
    "        left_half = lst[:midway]\n",
    "        # Slice the list from the midway to end for right half\n",
    "        right_half = lst[midway:]\n",
    "        \n",
    "        # Recursively call merge_sort on our left and right half\n",
    "        merge_sort(left_half)\n",
    "        merge_sort(right_half)\n",
    "        \n",
    "        # Merge the left and right half back into the main(lst) using index pointers\n",
    "        l = 0 # pointer for left_half list\n",
    "        r = 0 # pointer for right_half list\n",
    "        m = 0 # pointer for main list (lst)\n",
    "        \n",
    "        # While our pointers are still pointing at valid indices in the right and left list\n",
    "        while l < len(left_half) and r < len(right_half):\n",
    "            # If the element in the left list is less than the element in the right list\n",
    "            if left_half[l] < right_half[r]:\n",
    "                # Place the left element in the main list\n",
    "                lst[m] = left_half[l]\n",
    "                # Move the pointer to the right one element on the left list\n",
    "                l += 1\n",
    "            # If the element in the right list is less than or eqaul to the element in the left list\n",
    "            else:\n",
    "                # Place the right list element in the main list\n",
    "                lst[m] = right_half[r]\n",
    "                # Move the pointer to the right one element on the right list\n",
    "                r += 1\n",
    "            # Either way, always move the main pointer right once\n",
    "            m += 1\n",
    "        # If the right list is done and left still has indices left\n",
    "        while l < len(left_half):\n",
    "            lst[m] = left_half[l]\n",
    "            l += 1\n",
    "            m += 1\n",
    "        # If the left list is done and right still has some left\n",
    "        while r < len(right_half):\n",
    "            lst[m] = right_half[r]\n",
    "            r += 1\n",
    "            m += 1\n",
    "    print('Merging...', lst)\n",
    "    return lst\n",
    "\n",
    "merge_sort(list_to_sort)"
   ]
  },
  {
   "cell_type": "markdown",
   "metadata": {},
   "source": [
    "# Binary Search\n",
    "\n",
    "The Binary Search algorithm works by finding the number in the middle of a given array and comparing it to the target. **Given that the array is sorted**\n",
    "\n",
    "* The worst case run time for this algorithm is `O(log(n))`"
   ]
  },
  {
   "cell_type": "code",
   "execution_count": 49,
   "metadata": {},
   "outputs": [
    {
     "data": {
      "text/plain": [
       "'The index for 26 is 1'"
      ]
     },
     "execution_count": 49,
     "metadata": {},
     "output_type": "execute_result"
    }
   ],
   "source": [
    "# Less == Left\n",
    "# Greater == Right\n",
    "# List of numbers MUST be sorted\n",
    "\n",
    "def binary_search(list_to_search, target):\n",
    "    low = 0 # Far left index\n",
    "    high = len(list_to_search) - 1 # Far right index\n",
    "    while low <= high:\n",
    "        mid = (low + high) // 2\n",
    "        if list_to_search[mid] == target:\n",
    "            return f\"The index for {target} is {mid}\"\n",
    "        elif list_to_search[mid] > target:\n",
    "            high = mid - 1\n",
    "        else:\n",
    "            low = mid + 1\n",
    "    return -1\n",
    "\n",
    "\n",
    "binary_search([19, 26, 28, 43, 46, 54, 55, 56, 61, 98], 26)"
   ]
  },
  {
   "cell_type": "markdown",
   "metadata": {},
   "source": [
    "# Exercises"
   ]
  },
  {
   "cell_type": "markdown",
   "metadata": {},
   "source": [
    "### Exercise #1 <br>\n",
    "<p>Reverse the list below out-of-place using an out-of-place algorithm.<br>For extra credit: Reverse the strings at the same time.</p>"
   ]
  },
  {
   "cell_type": "code",
   "execution_count": 51,
   "metadata": {},
   "outputs": [
    {
     "name": "stdout",
     "output_type": "stream",
     "text": [
      "['this', 'is', 'a', 'sentence', '.']\n",
      "['this', 'is', 'a', 'sentence', '.']\n",
      "None\n"
     ]
    }
   ],
   "source": [
    "words = ['this' , 'is', 'a', 'sentence', '.']\n",
    "\n",
    "# Output: ['.', 'sentence', 'a', 'is', 'this']\n",
    "# Bonus Output: ['.', 'ecnetnes', 'a', 'si', 'siht']\n",
    "\n",
    "\n",
    "def reverse(lst):\n",
    "    pass\n",
    "\n",
    "\n",
    "print(words)\n",
    "reversed_words = reverse(words)\n",
    "print(words)\n",
    "print(reversed_words)"
   ]
  },
  {
   "cell_type": "markdown",
   "metadata": {},
   "source": [
    "### Exercise #2 <br>\n",
    "<p>Create a function that counts how many distinct words are in the string below, then outputs a dictionary with the words as the key and the value as the amount of times that word appears in the string.</p>\n",
    "Example Output:<code>{'in': 1, 'computing': 1, 'a': 5, ...}</code>"
   ]
  },
  {
   "cell_type": "code",
   "execution_count": null,
   "metadata": {},
   "outputs": [],
   "source": [
    "a_text = 'In computing, a hash table hash map is a data structure which implements an associative array abstract data type, a structure that can map keys to values. A hash table uses a hash function to compute an index into an array of buckets or slots from which the desired value can be found'\n"
   ]
  },
  {
   "cell_type": "markdown",
   "metadata": {},
   "source": [
    "## Exercise #3\n",
    "\n",
    "Write a function implementing a Linear Search Algorithm. A linear search is a method for finding an element within a list. It sequentially checks each element of the list until a match is found or the whole list has been searched. If you do not find a match, return -1"
   ]
  },
  {
   "cell_type": "code",
   "execution_count": null,
   "metadata": {},
   "outputs": [],
   "source": [
    "nums_list = [10,23,45,70,11,15]\n",
    "target = 70\n",
    "\n",
    "# If number is not present return -1\n"
   ]
  }
 ],
 "metadata": {
  "kernelspec": {
   "display_name": "Python 3",
   "language": "python",
   "name": "python3"
  },
  "language_info": {
   "codemirror_mode": {
    "name": "ipython",
    "version": 3
   },
   "file_extension": ".py",
   "mimetype": "text/x-python",
   "name": "python",
   "nbconvert_exporter": "python",
   "pygments_lexer": "ipython3",
   "version": "3.8.5"
  }
 },
 "nbformat": 4,
 "nbformat_minor": 2
}
